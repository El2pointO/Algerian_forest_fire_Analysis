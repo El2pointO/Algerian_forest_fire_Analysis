{
 "cells": [
  {
   "cell_type": "code",
   "execution_count": 29,
   "metadata": {},
   "outputs": [],
   "source": [
    "import pandas as pd\n",
    "import numpy as np \n",
    "import seaborn as sns\n",
    "import matplotlib.pyplot as plt\n",
    "%matplotlib inline\n",
    "from sklearn.model_selection import train_test_split\n",
    "from sklearn.preprocessing import StandardScaler\n",
    "from sklearn.linear_model import LinearRegression\n",
    "from sklearn.metrics import mean_absolute_error\n",
    "from sklearn.linear_model import Ridge,RidgeCV\n",
    "from sklearn.linear_model import Lasso ,LassoCV\n",
    "from sklearn.linear_model import ElasticNet,ElasticNetCV\n",
    "from sklearn.metrics import r2_score"
   ]
  },
  {
   "cell_type": "code",
   "execution_count": 3,
   "metadata": {},
   "outputs": [],
   "source": [
    "df= pd.read_csv('C:/Users/lalit/Downloads/Algerianfire/AlgerianfireCleaned.csv')"
   ]
  },
  {
   "cell_type": "code",
   "execution_count": 4,
   "metadata": {},
   "outputs": [
    {
     "data": {
      "text/html": [
       "<div>\n",
       "<style scoped>\n",
       "    .dataframe tbody tr th:only-of-type {\n",
       "        vertical-align: middle;\n",
       "    }\n",
       "\n",
       "    .dataframe tbody tr th {\n",
       "        vertical-align: top;\n",
       "    }\n",
       "\n",
       "    .dataframe thead th {\n",
       "        text-align: right;\n",
       "    }\n",
       "</style>\n",
       "<table border=\"1\" class=\"dataframe\">\n",
       "  <thead>\n",
       "    <tr style=\"text-align: right;\">\n",
       "      <th></th>\n",
       "      <th>day</th>\n",
       "      <th>month</th>\n",
       "      <th>year</th>\n",
       "      <th>Temperature</th>\n",
       "      <th>RH</th>\n",
       "      <th>Ws</th>\n",
       "      <th>Rain</th>\n",
       "      <th>FFMC</th>\n",
       "      <th>DMC</th>\n",
       "      <th>DC</th>\n",
       "      <th>ISI</th>\n",
       "      <th>BUI</th>\n",
       "      <th>FWI</th>\n",
       "      <th>Classes</th>\n",
       "      <th>Region</th>\n",
       "    </tr>\n",
       "  </thead>\n",
       "  <tbody>\n",
       "    <tr>\n",
       "      <th>0</th>\n",
       "      <td>1.0</td>\n",
       "      <td>6.0</td>\n",
       "      <td>2012.0</td>\n",
       "      <td>29.0</td>\n",
       "      <td>57.0</td>\n",
       "      <td>18.0</td>\n",
       "      <td>0.0</td>\n",
       "      <td>65.7</td>\n",
       "      <td>3.4</td>\n",
       "      <td>7.6</td>\n",
       "      <td>1.3</td>\n",
       "      <td>3.4</td>\n",
       "      <td>0.5</td>\n",
       "      <td>0.0</td>\n",
       "      <td>0</td>\n",
       "    </tr>\n",
       "    <tr>\n",
       "      <th>1</th>\n",
       "      <td>2.0</td>\n",
       "      <td>6.0</td>\n",
       "      <td>2012.0</td>\n",
       "      <td>29.0</td>\n",
       "      <td>61.0</td>\n",
       "      <td>13.0</td>\n",
       "      <td>1.3</td>\n",
       "      <td>64.4</td>\n",
       "      <td>4.1</td>\n",
       "      <td>7.6</td>\n",
       "      <td>1.0</td>\n",
       "      <td>3.9</td>\n",
       "      <td>0.4</td>\n",
       "      <td>0.0</td>\n",
       "      <td>0</td>\n",
       "    </tr>\n",
       "    <tr>\n",
       "      <th>2</th>\n",
       "      <td>3.0</td>\n",
       "      <td>6.0</td>\n",
       "      <td>2012.0</td>\n",
       "      <td>26.0</td>\n",
       "      <td>82.0</td>\n",
       "      <td>22.0</td>\n",
       "      <td>13.1</td>\n",
       "      <td>47.1</td>\n",
       "      <td>2.5</td>\n",
       "      <td>7.1</td>\n",
       "      <td>0.3</td>\n",
       "      <td>2.7</td>\n",
       "      <td>0.1</td>\n",
       "      <td>0.0</td>\n",
       "      <td>0</td>\n",
       "    </tr>\n",
       "    <tr>\n",
       "      <th>3</th>\n",
       "      <td>4.0</td>\n",
       "      <td>6.0</td>\n",
       "      <td>2012.0</td>\n",
       "      <td>25.0</td>\n",
       "      <td>89.0</td>\n",
       "      <td>13.0</td>\n",
       "      <td>2.5</td>\n",
       "      <td>28.6</td>\n",
       "      <td>1.3</td>\n",
       "      <td>6.9</td>\n",
       "      <td>0.0</td>\n",
       "      <td>1.7</td>\n",
       "      <td>0.0</td>\n",
       "      <td>0.0</td>\n",
       "      <td>0</td>\n",
       "    </tr>\n",
       "    <tr>\n",
       "      <th>4</th>\n",
       "      <td>5.0</td>\n",
       "      <td>6.0</td>\n",
       "      <td>2012.0</td>\n",
       "      <td>27.0</td>\n",
       "      <td>77.0</td>\n",
       "      <td>16.0</td>\n",
       "      <td>0.0</td>\n",
       "      <td>64.8</td>\n",
       "      <td>3.0</td>\n",
       "      <td>14.2</td>\n",
       "      <td>1.2</td>\n",
       "      <td>3.9</td>\n",
       "      <td>0.5</td>\n",
       "      <td>0.0</td>\n",
       "      <td>0</td>\n",
       "    </tr>\n",
       "    <tr>\n",
       "      <th>...</th>\n",
       "      <td>...</td>\n",
       "      <td>...</td>\n",
       "      <td>...</td>\n",
       "      <td>...</td>\n",
       "      <td>...</td>\n",
       "      <td>...</td>\n",
       "      <td>...</td>\n",
       "      <td>...</td>\n",
       "      <td>...</td>\n",
       "      <td>...</td>\n",
       "      <td>...</td>\n",
       "      <td>...</td>\n",
       "      <td>...</td>\n",
       "      <td>...</td>\n",
       "      <td>...</td>\n",
       "    </tr>\n",
       "    <tr>\n",
       "      <th>239</th>\n",
       "      <td>26.0</td>\n",
       "      <td>9.0</td>\n",
       "      <td>2012.0</td>\n",
       "      <td>30.0</td>\n",
       "      <td>65.0</td>\n",
       "      <td>14.0</td>\n",
       "      <td>0.0</td>\n",
       "      <td>85.4</td>\n",
       "      <td>16.0</td>\n",
       "      <td>44.5</td>\n",
       "      <td>4.5</td>\n",
       "      <td>16.9</td>\n",
       "      <td>6.5</td>\n",
       "      <td>1.0</td>\n",
       "      <td>1</td>\n",
       "    </tr>\n",
       "    <tr>\n",
       "      <th>240</th>\n",
       "      <td>27.0</td>\n",
       "      <td>9.0</td>\n",
       "      <td>2012.0</td>\n",
       "      <td>28.0</td>\n",
       "      <td>87.0</td>\n",
       "      <td>15.0</td>\n",
       "      <td>4.4</td>\n",
       "      <td>41.1</td>\n",
       "      <td>6.5</td>\n",
       "      <td>8.0</td>\n",
       "      <td>0.1</td>\n",
       "      <td>6.2</td>\n",
       "      <td>0.0</td>\n",
       "      <td>0.0</td>\n",
       "      <td>1</td>\n",
       "    </tr>\n",
       "    <tr>\n",
       "      <th>241</th>\n",
       "      <td>28.0</td>\n",
       "      <td>9.0</td>\n",
       "      <td>2012.0</td>\n",
       "      <td>27.0</td>\n",
       "      <td>87.0</td>\n",
       "      <td>29.0</td>\n",
       "      <td>0.5</td>\n",
       "      <td>45.9</td>\n",
       "      <td>3.5</td>\n",
       "      <td>7.9</td>\n",
       "      <td>0.4</td>\n",
       "      <td>3.4</td>\n",
       "      <td>0.2</td>\n",
       "      <td>0.0</td>\n",
       "      <td>1</td>\n",
       "    </tr>\n",
       "    <tr>\n",
       "      <th>242</th>\n",
       "      <td>29.0</td>\n",
       "      <td>9.0</td>\n",
       "      <td>2012.0</td>\n",
       "      <td>24.0</td>\n",
       "      <td>54.0</td>\n",
       "      <td>18.0</td>\n",
       "      <td>0.1</td>\n",
       "      <td>79.7</td>\n",
       "      <td>4.3</td>\n",
       "      <td>15.2</td>\n",
       "      <td>1.7</td>\n",
       "      <td>5.1</td>\n",
       "      <td>0.7</td>\n",
       "      <td>0.0</td>\n",
       "      <td>1</td>\n",
       "    </tr>\n",
       "    <tr>\n",
       "      <th>243</th>\n",
       "      <td>30.0</td>\n",
       "      <td>9.0</td>\n",
       "      <td>2012.0</td>\n",
       "      <td>24.0</td>\n",
       "      <td>64.0</td>\n",
       "      <td>15.0</td>\n",
       "      <td>0.2</td>\n",
       "      <td>67.3</td>\n",
       "      <td>3.8</td>\n",
       "      <td>16.5</td>\n",
       "      <td>1.2</td>\n",
       "      <td>4.8</td>\n",
       "      <td>0.5</td>\n",
       "      <td>0.0</td>\n",
       "      <td>1</td>\n",
       "    </tr>\n",
       "  </tbody>\n",
       "</table>\n",
       "<p>244 rows × 15 columns</p>\n",
       "</div>"
      ],
      "text/plain": [
       "      day  month    year  Temperature    RH    Ws  Rain  FFMC   DMC    DC  \\\n",
       "0     1.0    6.0  2012.0         29.0  57.0  18.0   0.0  65.7   3.4   7.6   \n",
       "1     2.0    6.0  2012.0         29.0  61.0  13.0   1.3  64.4   4.1   7.6   \n",
       "2     3.0    6.0  2012.0         26.0  82.0  22.0  13.1  47.1   2.5   7.1   \n",
       "3     4.0    6.0  2012.0         25.0  89.0  13.0   2.5  28.6   1.3   6.9   \n",
       "4     5.0    6.0  2012.0         27.0  77.0  16.0   0.0  64.8   3.0  14.2   \n",
       "..    ...    ...     ...          ...   ...   ...   ...   ...   ...   ...   \n",
       "239  26.0    9.0  2012.0         30.0  65.0  14.0   0.0  85.4  16.0  44.5   \n",
       "240  27.0    9.0  2012.0         28.0  87.0  15.0   4.4  41.1   6.5   8.0   \n",
       "241  28.0    9.0  2012.0         27.0  87.0  29.0   0.5  45.9   3.5   7.9   \n",
       "242  29.0    9.0  2012.0         24.0  54.0  18.0   0.1  79.7   4.3  15.2   \n",
       "243  30.0    9.0  2012.0         24.0  64.0  15.0   0.2  67.3   3.8  16.5   \n",
       "\n",
       "     ISI   BUI  FWI  Classes  Region  \n",
       "0    1.3   3.4  0.5      0.0       0  \n",
       "1    1.0   3.9  0.4      0.0       0  \n",
       "2    0.3   2.7  0.1      0.0       0  \n",
       "3    0.0   1.7  0.0      0.0       0  \n",
       "4    1.2   3.9  0.5      0.0       0  \n",
       "..   ...   ...  ...      ...     ...  \n",
       "239  4.5  16.9  6.5      1.0       1  \n",
       "240  0.1   6.2  0.0      0.0       1  \n",
       "241  0.4   3.4  0.2      0.0       1  \n",
       "242  1.7   5.1  0.7      0.0       1  \n",
       "243  1.2   4.8  0.5      0.0       1  \n",
       "\n",
       "[244 rows x 15 columns]"
      ]
     },
     "execution_count": 4,
     "metadata": {},
     "output_type": "execute_result"
    }
   ],
   "source": [
    "df"
   ]
  },
  {
   "cell_type": "code",
   "execution_count": 5,
   "metadata": {},
   "outputs": [
    {
     "data": {
      "text/plain": [
       "day            1\n",
       "month          1\n",
       "year           1\n",
       "Temperature    1\n",
       "RH             1\n",
       "Ws             1\n",
       "Rain           1\n",
       "FFMC           1\n",
       "DMC            1\n",
       "DC             1\n",
       "ISI            1\n",
       "BUI            1\n",
       "FWI            1\n",
       "Classes        1\n",
       "Region         0\n",
       "dtype: int64"
      ]
     },
     "execution_count": 5,
     "metadata": {},
     "output_type": "execute_result"
    }
   ],
   "source": [
    "df.isnull().sum()"
   ]
  },
  {
   "cell_type": "code",
   "execution_count": 6,
   "metadata": {},
   "outputs": [],
   "source": [
    "df.dropna(inplace=True)"
   ]
  },
  {
   "cell_type": "code",
   "execution_count": 7,
   "metadata": {},
   "outputs": [
    {
     "data": {
      "text/html": [
       "<div>\n",
       "<style scoped>\n",
       "    .dataframe tbody tr th:only-of-type {\n",
       "        vertical-align: middle;\n",
       "    }\n",
       "\n",
       "    .dataframe tbody tr th {\n",
       "        vertical-align: top;\n",
       "    }\n",
       "\n",
       "    .dataframe thead th {\n",
       "        text-align: right;\n",
       "    }\n",
       "</style>\n",
       "<table border=\"1\" class=\"dataframe\">\n",
       "  <thead>\n",
       "    <tr style=\"text-align: right;\">\n",
       "      <th></th>\n",
       "      <th>day</th>\n",
       "      <th>month</th>\n",
       "      <th>year</th>\n",
       "      <th>Temperature</th>\n",
       "      <th>RH</th>\n",
       "      <th>Ws</th>\n",
       "      <th>Rain</th>\n",
       "      <th>FFMC</th>\n",
       "      <th>DMC</th>\n",
       "      <th>DC</th>\n",
       "      <th>ISI</th>\n",
       "      <th>BUI</th>\n",
       "      <th>FWI</th>\n",
       "      <th>Classes</th>\n",
       "      <th>Region</th>\n",
       "    </tr>\n",
       "  </thead>\n",
       "  <tbody>\n",
       "  </tbody>\n",
       "</table>\n",
       "</div>"
      ],
      "text/plain": [
       "Empty DataFrame\n",
       "Columns: [day, month, year, Temperature, RH, Ws, Rain, FFMC, DMC, DC, ISI, BUI, FWI, Classes, Region]\n",
       "Index: []"
      ]
     },
     "execution_count": 7,
     "metadata": {},
     "output_type": "execute_result"
    }
   ],
   "source": [
    "df[df.isnull().any(axis=1)]"
   ]
  },
  {
   "cell_type": "code",
   "execution_count": 8,
   "metadata": {},
   "outputs": [],
   "source": [
    "df['Classes'] = df['Classes'].astype('int64')"
   ]
  },
  {
   "cell_type": "code",
   "execution_count": 9,
   "metadata": {},
   "outputs": [],
   "source": [
    "df.drop(['year','month','day'],axis= 1,inplace=True)"
   ]
  },
  {
   "cell_type": "code",
   "execution_count": 10,
   "metadata": {},
   "outputs": [
    {
     "name": "stdout",
     "output_type": "stream",
     "text": [
      "<class 'pandas.core.frame.DataFrame'>\n",
      "Int64Index: 243 entries, 0 to 243\n",
      "Data columns (total 12 columns):\n",
      " #   Column       Non-Null Count  Dtype  \n",
      "---  ------       --------------  -----  \n",
      " 0   Temperature  243 non-null    float64\n",
      " 1   RH           243 non-null    float64\n",
      " 2   Ws           243 non-null    float64\n",
      " 3   Rain         243 non-null    float64\n",
      " 4   FFMC         243 non-null    float64\n",
      " 5   DMC          243 non-null    float64\n",
      " 6   DC           243 non-null    float64\n",
      " 7   ISI          243 non-null    float64\n",
      " 8   BUI          243 non-null    float64\n",
      " 9   FWI          243 non-null    float64\n",
      " 10  Classes      243 non-null    int64  \n",
      " 11  Region       243 non-null    int64  \n",
      "dtypes: float64(10), int64(2)\n",
      "memory usage: 24.7 KB\n"
     ]
    }
   ],
   "source": [
    "df.info()"
   ]
  },
  {
   "cell_type": "code",
   "execution_count": 11,
   "metadata": {},
   "outputs": [],
   "source": [
    "X = df.drop('FWI',axis=1)\n",
    "y = df['FWI']"
   ]
  },
  {
   "cell_type": "code",
   "execution_count": 12,
   "metadata": {},
   "outputs": [],
   "source": [
    "X_train,X_test, y_train,y_test = train_test_split(X,y, random_state= 42,test_size= 0.25)"
   ]
  },
  {
   "cell_type": "code",
   "execution_count": 13,
   "metadata": {},
   "outputs": [
    {
     "data": {
      "text/plain": [
       "((182, 11), (61, 11))"
      ]
     },
     "execution_count": 13,
     "metadata": {},
     "output_type": "execute_result"
    }
   ],
   "source": [
    "X_train.shape,X_test.shape"
   ]
  },
  {
   "cell_type": "code",
   "execution_count": 14,
   "metadata": {},
   "outputs": [
    {
     "data": {
      "text/html": [
       "<div>\n",
       "<style scoped>\n",
       "    .dataframe tbody tr th:only-of-type {\n",
       "        vertical-align: middle;\n",
       "    }\n",
       "\n",
       "    .dataframe tbody tr th {\n",
       "        vertical-align: top;\n",
       "    }\n",
       "\n",
       "    .dataframe thead th {\n",
       "        text-align: right;\n",
       "    }\n",
       "</style>\n",
       "<table border=\"1\" class=\"dataframe\">\n",
       "  <thead>\n",
       "    <tr style=\"text-align: right;\">\n",
       "      <th></th>\n",
       "      <th>Temperature</th>\n",
       "      <th>RH</th>\n",
       "      <th>Ws</th>\n",
       "      <th>Rain</th>\n",
       "      <th>FFMC</th>\n",
       "      <th>DMC</th>\n",
       "      <th>DC</th>\n",
       "      <th>ISI</th>\n",
       "      <th>BUI</th>\n",
       "      <th>Classes</th>\n",
       "      <th>Region</th>\n",
       "    </tr>\n",
       "  </thead>\n",
       "  <tbody>\n",
       "    <tr>\n",
       "      <th>Temperature</th>\n",
       "      <td>1.000000</td>\n",
       "      <td>-0.656095</td>\n",
       "      <td>-0.305977</td>\n",
       "      <td>-0.317512</td>\n",
       "      <td>0.694768</td>\n",
       "      <td>0.498173</td>\n",
       "      <td>0.390684</td>\n",
       "      <td>0.629848</td>\n",
       "      <td>0.473609</td>\n",
       "      <td>0.542141</td>\n",
       "      <td>0.254549</td>\n",
       "    </tr>\n",
       "    <tr>\n",
       "      <th>RH</th>\n",
       "      <td>-0.656095</td>\n",
       "      <td>1.000000</td>\n",
       "      <td>0.225736</td>\n",
       "      <td>0.241656</td>\n",
       "      <td>-0.653023</td>\n",
       "      <td>-0.414601</td>\n",
       "      <td>-0.236078</td>\n",
       "      <td>-0.717804</td>\n",
       "      <td>-0.362317</td>\n",
       "      <td>-0.456876</td>\n",
       "      <td>-0.394665</td>\n",
       "    </tr>\n",
       "    <tr>\n",
       "      <th>Ws</th>\n",
       "      <td>-0.305977</td>\n",
       "      <td>0.225736</td>\n",
       "      <td>1.000000</td>\n",
       "      <td>0.251932</td>\n",
       "      <td>-0.190076</td>\n",
       "      <td>0.000379</td>\n",
       "      <td>0.096576</td>\n",
       "      <td>-0.023558</td>\n",
       "      <td>0.035633</td>\n",
       "      <td>-0.082570</td>\n",
       "      <td>-0.199969</td>\n",
       "    </tr>\n",
       "    <tr>\n",
       "      <th>Rain</th>\n",
       "      <td>-0.317512</td>\n",
       "      <td>0.241656</td>\n",
       "      <td>0.251932</td>\n",
       "      <td>1.000000</td>\n",
       "      <td>-0.545491</td>\n",
       "      <td>-0.289754</td>\n",
       "      <td>-0.302341</td>\n",
       "      <td>-0.345707</td>\n",
       "      <td>-0.300964</td>\n",
       "      <td>-0.369357</td>\n",
       "      <td>-0.059022</td>\n",
       "    </tr>\n",
       "    <tr>\n",
       "      <th>FFMC</th>\n",
       "      <td>0.694768</td>\n",
       "      <td>-0.653023</td>\n",
       "      <td>-0.190076</td>\n",
       "      <td>-0.545491</td>\n",
       "      <td>1.000000</td>\n",
       "      <td>0.620807</td>\n",
       "      <td>0.524101</td>\n",
       "      <td>0.750799</td>\n",
       "      <td>0.607210</td>\n",
       "      <td>0.781259</td>\n",
       "      <td>0.249514</td>\n",
       "    </tr>\n",
       "    <tr>\n",
       "      <th>DMC</th>\n",
       "      <td>0.498173</td>\n",
       "      <td>-0.414601</td>\n",
       "      <td>0.000379</td>\n",
       "      <td>-0.289754</td>\n",
       "      <td>0.620807</td>\n",
       "      <td>1.000000</td>\n",
       "      <td>0.868647</td>\n",
       "      <td>0.685656</td>\n",
       "      <td>0.983175</td>\n",
       "      <td>0.617273</td>\n",
       "      <td>0.212582</td>\n",
       "    </tr>\n",
       "    <tr>\n",
       "      <th>DC</th>\n",
       "      <td>0.390684</td>\n",
       "      <td>-0.236078</td>\n",
       "      <td>0.096576</td>\n",
       "      <td>-0.302341</td>\n",
       "      <td>0.524101</td>\n",
       "      <td>0.868647</td>\n",
       "      <td>1.000000</td>\n",
       "      <td>0.513701</td>\n",
       "      <td>0.942414</td>\n",
       "      <td>0.543581</td>\n",
       "      <td>-0.060838</td>\n",
       "    </tr>\n",
       "    <tr>\n",
       "      <th>ISI</th>\n",
       "      <td>0.629848</td>\n",
       "      <td>-0.717804</td>\n",
       "      <td>-0.023558</td>\n",
       "      <td>-0.345707</td>\n",
       "      <td>0.750799</td>\n",
       "      <td>0.685656</td>\n",
       "      <td>0.513701</td>\n",
       "      <td>1.000000</td>\n",
       "      <td>0.643818</td>\n",
       "      <td>0.742977</td>\n",
       "      <td>0.296441</td>\n",
       "    </tr>\n",
       "    <tr>\n",
       "      <th>BUI</th>\n",
       "      <td>0.473609</td>\n",
       "      <td>-0.362317</td>\n",
       "      <td>0.035633</td>\n",
       "      <td>-0.300964</td>\n",
       "      <td>0.607210</td>\n",
       "      <td>0.983175</td>\n",
       "      <td>0.942414</td>\n",
       "      <td>0.643818</td>\n",
       "      <td>1.000000</td>\n",
       "      <td>0.612239</td>\n",
       "      <td>0.114897</td>\n",
       "    </tr>\n",
       "    <tr>\n",
       "      <th>Classes</th>\n",
       "      <td>0.542141</td>\n",
       "      <td>-0.456876</td>\n",
       "      <td>-0.082570</td>\n",
       "      <td>-0.369357</td>\n",
       "      <td>0.781259</td>\n",
       "      <td>0.617273</td>\n",
       "      <td>0.543581</td>\n",
       "      <td>0.742977</td>\n",
       "      <td>0.612239</td>\n",
       "      <td>1.000000</td>\n",
       "      <td>0.188837</td>\n",
       "    </tr>\n",
       "    <tr>\n",
       "      <th>Region</th>\n",
       "      <td>0.254549</td>\n",
       "      <td>-0.394665</td>\n",
       "      <td>-0.199969</td>\n",
       "      <td>-0.059022</td>\n",
       "      <td>0.249514</td>\n",
       "      <td>0.212582</td>\n",
       "      <td>-0.060838</td>\n",
       "      <td>0.296441</td>\n",
       "      <td>0.114897</td>\n",
       "      <td>0.188837</td>\n",
       "      <td>1.000000</td>\n",
       "    </tr>\n",
       "  </tbody>\n",
       "</table>\n",
       "</div>"
      ],
      "text/plain": [
       "             Temperature        RH        Ws      Rain      FFMC       DMC  \\\n",
       "Temperature     1.000000 -0.656095 -0.305977 -0.317512  0.694768  0.498173   \n",
       "RH             -0.656095  1.000000  0.225736  0.241656 -0.653023 -0.414601   \n",
       "Ws             -0.305977  0.225736  1.000000  0.251932 -0.190076  0.000379   \n",
       "Rain           -0.317512  0.241656  0.251932  1.000000 -0.545491 -0.289754   \n",
       "FFMC            0.694768 -0.653023 -0.190076 -0.545491  1.000000  0.620807   \n",
       "DMC             0.498173 -0.414601  0.000379 -0.289754  0.620807  1.000000   \n",
       "DC              0.390684 -0.236078  0.096576 -0.302341  0.524101  0.868647   \n",
       "ISI             0.629848 -0.717804 -0.023558 -0.345707  0.750799  0.685656   \n",
       "BUI             0.473609 -0.362317  0.035633 -0.300964  0.607210  0.983175   \n",
       "Classes         0.542141 -0.456876 -0.082570 -0.369357  0.781259  0.617273   \n",
       "Region          0.254549 -0.394665 -0.199969 -0.059022  0.249514  0.212582   \n",
       "\n",
       "                   DC       ISI       BUI   Classes    Region  \n",
       "Temperature  0.390684  0.629848  0.473609  0.542141  0.254549  \n",
       "RH          -0.236078 -0.717804 -0.362317 -0.456876 -0.394665  \n",
       "Ws           0.096576 -0.023558  0.035633 -0.082570 -0.199969  \n",
       "Rain        -0.302341 -0.345707 -0.300964 -0.369357 -0.059022  \n",
       "FFMC         0.524101  0.750799  0.607210  0.781259  0.249514  \n",
       "DMC          0.868647  0.685656  0.983175  0.617273  0.212582  \n",
       "DC           1.000000  0.513701  0.942414  0.543581 -0.060838  \n",
       "ISI          0.513701  1.000000  0.643818  0.742977  0.296441  \n",
       "BUI          0.942414  0.643818  1.000000  0.612239  0.114897  \n",
       "Classes      0.543581  0.742977  0.612239  1.000000  0.188837  \n",
       "Region      -0.060838  0.296441  0.114897  0.188837  1.000000  "
      ]
     },
     "execution_count": 14,
     "metadata": {},
     "output_type": "execute_result"
    }
   ],
   "source": [
    "X_train.corr()"
   ]
  },
  {
   "cell_type": "code",
   "execution_count": 15,
   "metadata": {},
   "outputs": [
    {
     "data": {
      "text/plain": [
       "<AxesSubplot:>"
      ]
     },
     "execution_count": 15,
     "metadata": {},
     "output_type": "execute_result"
    },
    {
     "data": {
      "image/png": "[encoded data removed]",
      "text/plain": [
       "<Figure size 1440x576 with 2 Axes>"
      ]
     },
     "metadata": {
      "needs_background": "light"
     },
     "output_type": "display_data"
    }
   ],
   "source": [
    "plt.figure(figsize=(20,8))\n",
    "corr = X_train.corr()\n",
    "sns.heatmap(corr,annot=True)"
   ]
  },
  {
   "cell_type": "code",
   "execution_count": 16,
   "metadata": {},
   "outputs": [],
   "source": [
    "def correlation(df,threshold):\n",
    "    col_corr = set()\n",
    "    corr_matrix = df.corr()\n",
    "    for i in range(len(corr_matrix.columns)):\n",
    "        for j in range(i):\n",
    "            if abs(corr_matrix.iloc[i,j]) > threshold:\n",
    "                col = corr_matrix.columns[i]\n",
    "                col_corr.add(col)\n",
    "    return col_corr"
   ]
  },
  {
   "cell_type": "code",
   "execution_count": 17,
   "metadata": {},
   "outputs": [],
   "source": [
    "corr_feature = correlation(X_train,0.85)"
   ]
  },
  {
   "cell_type": "code",
   "execution_count": 18,
   "metadata": {},
   "outputs": [
    {
     "data": {
      "text/plain": [
       "((182, 9), (61, 9))"
      ]
     },
     "execution_count": 18,
     "metadata": {},
     "output_type": "execute_result"
    }
   ],
   "source": [
    "X_train.drop(corr_feature, axis= 1,inplace=True)\n",
    "X_test.drop(corr_feature,axis = 1, inplace= True)\n",
    "\n",
    "X_train.shape , X_test.shape"
   ]
  },
  {
   "cell_type": "markdown",
   "metadata": {},
   "source": [
    "## Feature Scaling or Standardization"
   ]
  },
  {
   "cell_type": "code",
   "execution_count": 19,
   "metadata": {},
   "outputs": [],
   "source": [
    "scaler = StandardScaler()\n",
    "X_train_scaled = scaler.fit_transform(X_train)\n",
    "X_test_scaled = scaler.transform(X_test)"
   ]
  },
  {
   "cell_type": "code",
   "execution_count": 20,
   "metadata": {},
   "outputs": [
    {
     "data": {
      "text/plain": [
       "array([[-0.84284248,  0.78307967,  1.29972026, ..., -0.62963326,\n",
       "        -1.10431526, -0.98907071],\n",
       "       [-0.30175842,  0.64950844, -0.59874754, ..., -0.93058524,\n",
       "        -1.10431526,  1.01105006],\n",
       "       [ 2.13311985, -2.08870172, -0.21905398, ...,  2.7271388 ,\n",
       "         0.90553851,  1.01105006],\n",
       "       ...,\n",
       "       [-1.9250106 ,  0.9166509 ,  0.54033314, ..., -1.06948615,\n",
       "        -1.10431526, -0.98907071],\n",
       "       [ 0.50986767, -0.21870454,  0.16063958, ...,  0.5973248 ,\n",
       "         0.90553851,  1.01105006],\n",
       "       [-0.57230045,  0.98343651,  2.05910739, ..., -0.86113478,\n",
       "        -1.10431526, -0.98907071]])"
      ]
     },
     "execution_count": 20,
     "metadata": {},
     "output_type": "execute_result"
    }
   ],
   "source": [
    "X_train_scaled"
   ]
  },
  {
   "cell_type": "code",
   "execution_count": 21,
   "metadata": {},
   "outputs": [
    {
     "data": {
      "text/plain": [
       "array([[-3.01758418e-01,  1.15223531e-01, -2.19053977e-01,\n",
       "        -3.84060174e-01,  6.33218240e-01, -4.25075679e-02,\n",
       "         2.03772218e-01,  9.05538514e-01, -9.89070710e-01],\n",
       "       [ 2.39325642e-01, -5.52632606e-01, -9.78441098e-01,\n",
       "        -3.84060174e-01,  7.37980727e-01, -3.83352062e-01,\n",
       "         3.65823283e-01,  9.05538514e-01, -9.89070710e-01],\n",
       "       [-1.11338451e+00, -2.85490151e-01,  9.20026704e-01,\n",
       "         6.45241658e-01, -9.73139891e-01, -9.14435344e-01,\n",
       "        -8.37984627e-01, -1.10431526e+00,  1.01105006e+00],\n",
       "       [ 5.09867672e-01, -2.85490151e-01, -9.78441098e-01,\n",
       "        -2.90487280e-01,  1.30358303e-01,  3.14190159e-01,\n",
       "        -6.29633258e-01, -1.10431526e+00,  1.01105006e+00],\n",
       "       [-5.72300448e-01,  1.82009145e-01, -5.98747538e-01,\n",
       "        -3.84060174e-01,  5.42424085e-01,  1.00171523e-01,\n",
       "        -7.40296073e-02,  9.05538514e-01,  1.01105006e+00],\n",
       "       [ 1.86257782e+00,  1.15223531e-01, -2.49721534e+00,\n",
       "         1.77377189e-01, -2.67739147e-01, -2.40672972e-01,\n",
       "        -8.61134779e-01, -1.10431526e+00,  1.01105006e+00],\n",
       "       [-1.11338451e+00,  8.49865282e-01,  1.60639583e-01,\n",
       "        -3.84060174e-01,  3.18930780e-01, -8.19315950e-01,\n",
       "        -3.51831432e-01,  9.05538514e-01,  1.01105006e+00],\n",
       "       [ 1.32149376e+00, -1.75477365e+00, -9.78441098e-01,\n",
       "        -1.03341493e-01,  5.98297411e-01,  2.50777229e-01,\n",
       "        -4.57915097e-03,  9.05538514e-01,  1.01105006e+00],\n",
       "       [-1.11338451e+00,  1.11700774e+00, -1.35813466e+00,\n",
       "        -3.84060174e-01, -3.09644141e-01, -4.15058527e-01,\n",
       "        -8.14834475e-01, -1.10431526e+00, -9.89070710e-01],\n",
       "       [-3.01758418e-01, -8.19775060e-01,  1.29972026e+00,\n",
       "        -1.03341493e-01,  1.16274848e-02, -3.27865749e-01,\n",
       "        -5.60182801e-01, -1.10431526e+00, -9.89070710e-01],\n",
       "       [-1.11338451e+00,  9.16650896e-01,  2.05910739e+00,\n",
       "        -3.84060174e-01, -3.51549136e-01, -6.13223930e-01,\n",
       "        -9.53735387e-01, -1.10431526e+00, -9.89070710e-01],\n",
       "       [ 7.80409702e-01, -4.19061378e-01, -5.98747538e-01,\n",
       "        -1.96914386e-01,  1.09405806e-01,  1.76476091e+00,\n",
       "        -6.29633258e-01, -1.10431526e+00,  1.01105006e+00],\n",
       "       [-3.12163881e-02, -7.52989447e-01, -9.78441098e-01,\n",
       "        -3.84060174e-01,  7.72901556e-01,  1.00171523e-01,\n",
       "         4.81574043e-01,  9.05538514e-01,  1.01105006e+00],\n",
       "       [ 1.05095173e+00, -8.19775060e-01,  1.60639583e-01,\n",
       "        -3.84060174e-01,  8.56711545e-01,  1.42391642e+00,\n",
       "         1.08347800e+00,  9.05538514e-01,  1.01105006e+00],\n",
       "       [ 1.05095173e+00, -4.85846992e-01,  9.20026704e-01,\n",
       "        -3.84060174e-01,  8.00838219e-01,  1.48732935e+00,\n",
       "         1.17607861e+00,  9.05538514e-01, -9.89070710e-01],\n",
       "       [ 5.09867672e-01, -7.52989447e-01,  1.60639583e-01,\n",
       "         1.39382481e+00, -9.32501256e-03, -5.33957769e-01,\n",
       "        -6.52783410e-01, -1.10431526e+00,  1.01105006e+00],\n",
       "       [-1.65446857e+00, -8.86560674e-01, -3.63629602e+00,\n",
       "         5.51668764e-01, -1.14075987e+00, -2.24819739e-01,\n",
       "        -9.76885539e-01, -1.10431526e+00,  1.01105006e+00],\n",
       "       [-8.42842478e-01,  1.78486387e+00, -9.78441098e-01,\n",
       "        -5.65550457e-02, -2.90076965e+00, -1.03333459e+00,\n",
       "        -1.11578645e+00, -1.10431526e+00, -9.89070710e-01],\n",
       "       [-3.12163881e-02,  8.49865282e-01, -5.98747538e-01,\n",
       "        -3.84060174e-01,  6.12265743e-01, -1.37626962e-01,\n",
       "         8.80214574e-02,  9.05538514e-01, -9.89070710e-01],\n",
       "       [ 7.80409702e-01, -5.52632606e-01, -1.73782822e+00,\n",
       "        -3.37273727e-01,  4.23693266e-01, -5.02251304e-01,\n",
       "        -3.98131737e-01,  9.05538514e-01,  1.01105006e+00],\n",
       "       [ 2.39325642e-01,  1.05022212e+00,  5.40333144e-01,\n",
       "        -3.84060174e-01,  1.72263298e-01, -8.03462718e-01,\n",
       "        -4.90732345e-01, -1.10431526e+00, -9.89070710e-01],\n",
       "       [-5.72300448e-01,  1.18379335e+00,  1.60639583e-01,\n",
       "        -1.96914386e-01, -1.24552236e+00, -8.98582112e-01,\n",
       "        -9.07435083e-01, -1.10431526e+00, -9.89070710e-01],\n",
       "       [-3.01758418e-01, -6.86203833e-01, -5.98747538e-01,\n",
       "        -3.84060174e-01,  7.03059898e-01, -6.60783627e-01,\n",
       "         3.19522978e-01,  9.05538514e-01, -9.89070710e-01],\n",
       "       [-8.42842478e-01,  3.82365986e-01,  1.29972026e+00,\n",
       "         8.38042950e-02, -1.23853819e+00, -9.69921657e-01,\n",
       "        -8.61134779e-01, -1.10431526e+00, -9.89070710e-01],\n",
       "       [ 1.59203579e+00, -1.82155927e+00, -2.19053977e-01,\n",
       "        -3.84060174e-01,  1.12909401e+00,  6.55034653e-01,\n",
       "         2.51878743e+00,  9.05538514e-01,  1.01105006e+00],\n",
       "       [ 1.86257782e+00, -1.15370313e+00, -9.78441098e-01,\n",
       "        -1.03341493e-01,  5.28455753e-01, -2.72379436e-01,\n",
       "        -1.43480064e-01,  9.05538514e-01,  1.01105006e+00],\n",
       "       [-3.01758418e-01,  1.82009145e-01, -5.98747538e-01,\n",
       "        -3.84060174e-01,  4.79566593e-01, -1.77260042e-01,\n",
       "        -1.89780368e-01,  9.05538514e-01, -9.89070710e-01],\n",
       "       [ 7.80409702e-01,  4.84379176e-02, -2.19053977e-01,\n",
       "        -3.84060174e-01,  6.54170737e-01,  3.37970007e-01,\n",
       "         2.50072522e-01,  9.05538514e-01, -9.89070710e-01],\n",
       "       [-2.73663669e+00,  1.58450703e+00, -2.19053977e-01,\n",
       "         4.34137096e+00, -3.29188293e+00, -1.11260075e+00,\n",
       "        -1.11578645e+00, -1.10431526e+00, -9.89070710e-01],\n",
       "       [ 5.09867672e-01, -2.85490151e-01,  9.20026704e-01,\n",
       "        -3.84060174e-01,  7.24012395e-01, -9.00672648e-02,\n",
       "         7.36225716e-01,  9.05538514e-01,  1.01105006e+00],\n",
       "       [-1.11338451e+00,  1.45093581e+00,  9.20026704e-01,\n",
       "        -3.84060174e-01,  4.30677432e-01, -9.79938809e-02,\n",
       "        -7.40296073e-02,  9.05538514e-01, -9.89070710e-01],\n",
       "       [-5.72300448e-01, -2.85490151e-01, -1.35813466e+00,\n",
       "         1.53418415e+00, -8.05519912e-01, -8.51022415e-01,\n",
       "        -8.84284931e-01, -1.10431526e+00,  1.01105006e+00],\n",
       "       [-3.01758418e-01,  1.15223531e-01,  9.20026704e-01,\n",
       "        -3.84060174e-01,  6.40202406e-01,  2.42850613e-01,\n",
       "         4.35273739e-01,  9.05538514e-01, -9.89070710e-01],\n",
       "       [ 7.80409702e-01,  1.15223531e-01,  5.40333144e-01,\n",
       "        -3.84060174e-01,  6.68139069e-01,  1.36050349e+00,\n",
       "         4.58423891e-01,  9.05538514e-01, -9.89070710e-01],\n",
       "       [-3.01758418e-01, -4.85846992e-01,  1.60639583e-01,\n",
       "        -3.37273727e-01,  1.58294966e-01, -8.11389334e-01,\n",
       "        -5.37032649e-01, -1.10431526e+00, -9.89070710e-01],\n",
       "       [-3.12163881e-02, -1.51918923e-01, -5.98747538e-01,\n",
       "        -2.90487280e-01, -3.72616757e-02, -6.92490092e-01,\n",
       "        -6.99083714e-01, -1.10431526e+00,  1.01105006e+00],\n",
       "       [-8.42842478e-01,  8.49865282e-01,  1.60639583e-01,\n",
       "        -3.84060174e-01,  2.21152458e-01, -8.98582112e-01,\n",
       "        -4.67582193e-01,  9.05538514e-01, -9.89070710e-01],\n",
       "       [ 7.80409702e-01, -1.08691752e+00, -9.78441098e-01,\n",
       "        -2.43700833e-01,  4.37661598e-01,  1.71511068e-01,\n",
       "        -3.05531128e-01,  9.05538514e-01,  1.01105006e+00],\n",
       "       [-8.42842478e-01,  1.65129265e+00, -2.19053977e-01,\n",
       "        -1.96914386e-01, -2.11155892e+00, -8.35169182e-01,\n",
       "        -1.06948615e+00, -1.10431526e+00,  1.01105006e+00],\n",
       "       [-1.38392654e+00,  1.65129265e+00,  5.09665587e+00,\n",
       "        -1.50127939e-01, -2.21632140e+00, -8.90655495e-01,\n",
       "        -1.02318584e+00, -1.10431526e+00,  1.01105006e+00],\n",
       "       [ 1.05095173e+00, -4.85846992e-01, -9.78441098e-01,\n",
       "        -2.43700833e-01,  3.32899111e-01,  6.84650581e-02,\n",
       "        -2.59230824e-01,  9.05538514e-01, -9.89070710e-01],\n",
       "       [-3.01758418e-01, -5.52632606e-01, -1.73782822e+00,\n",
       "        -3.84060174e-01,  3.04962448e-01, -6.92490092e-01,\n",
       "        -5.37032649e-01, -1.10431526e+00, -9.89070710e-01],\n",
       "       [-3.01758418e-01, -4.85846992e-01, -1.73782822e+00,\n",
       "        -3.84060174e-01,  7.10044064e-01,  1.39804603e-01,\n",
       "         1.34321762e-01,  9.05538514e-01, -9.89070710e-01],\n",
       "       [-5.72300448e-01,  1.78486387e+00,  1.60639583e-01,\n",
       "        -1.03341493e-01, -2.81695966e+00, -1.08089428e+00,\n",
       "        -1.11578645e+00, -1.10431526e+00, -9.89070710e-01],\n",
       "       [ 1.32149376e+00, -1.48763120e+00, -9.78441098e-01,\n",
       "        -3.84060174e-01,  9.96394861e-01,  5.99548340e-01,\n",
       "         1.38442998e+00,  9.05538514e-01,  1.01105006e+00],\n",
       "       [-3.12163881e-02,  4.49151600e-01,  1.60639583e-01,\n",
       "        -3.84060174e-01,  6.19249908e-01,  6.05384420e-02,\n",
       "         1.57471914e-01,  9.05538514e-01, -9.89070710e-01],\n",
       "       [-3.12163881e-02,  1.25057896e+00,  5.40333144e-01,\n",
       "        -3.84060174e-01,  4.86550758e-01,  5.04428946e-01,\n",
       "        -2.77293031e-02,  9.05538514e-01,  1.01105006e+00],\n",
       "       [-3.12163881e-02,  3.82365986e-01, -5.98747538e-01,\n",
       "         2.70950082e-01, -7.70599084e-01, -5.57737617e-01,\n",
       "        -8.61134779e-01, -1.10431526e+00, -9.89070710e-01],\n",
       "       [ 1.05095173e+00, -4.19061378e-01,  1.60639583e-01,\n",
       "        -3.84060174e-01,  7.86869887e-01,  7.18447582e-01,\n",
       "         7.82526020e-01,  9.05538514e-01,  1.01105006e+00],\n",
       "       [-8.42842478e-01,  1.82009145e-01,  1.29972026e+00,\n",
       "        -1.03341493e-01, -6.51868265e-01, -7.32123173e-01,\n",
       "        -7.68534170e-01, -1.10431526e+00, -9.89070710e-01],\n",
       "       [ 2.39325642e-01, -1.68798804e+00,  1.60639583e-01,\n",
       "        -3.84060174e-01,  1.01734736e+00,  3.69092864e+00,\n",
       "         1.91688347e+00,  9.05538514e-01,  1.01105006e+00],\n",
       "       [ 1.59203579e+00, -1.28727436e+00, -9.78441098e-01,\n",
       "        -1.50127939e-01,  5.14487422e-01, -1.37626962e-01,\n",
       "        -1.66630216e-01,  9.05538514e-01,  1.01105006e+00],\n",
       "       [-3.01758418e-01, -1.35405997e+00,  2.05910739e+00,\n",
       "        -3.84060174e-01,  9.05600706e-01,  2.74557078e-01,\n",
       "         1.98633393e+00,  9.05538514e-01,  1.01105006e+00],\n",
       "       [ 5.09867672e-01,  1.15223531e-01, -5.98747538e-01,\n",
       "        -3.84060174e-01,  7.86869887e-01,  2.04219248e+00,\n",
       "         9.67727237e-01,  9.05538514e-01, -9.89070710e-01],\n",
       "       [ 1.05095173e+00, -6.19418219e-01,  1.29972026e+00,\n",
       "        -3.84060174e-01,  8.07822385e-01,  1.87364300e-01,\n",
       "         1.19922876e+00,  9.05538514e-01, -9.89070710e-01],\n",
       "       [-3.01758418e-01,  1.05022212e+00,  9.20026704e-01,\n",
       "        -3.84060174e-01,  5.70360748e-01,  2.44644990e+00,\n",
       "        -2.77293031e-02,  9.05538514e-01, -9.89070710e-01],\n",
       "       [ 5.09867672e-01, -4.19061378e-01, -2.19053977e-01,\n",
       "         9.72746786e-01, -1.97897489e-01, -6.05297314e-01,\n",
       "        -7.45384018e-01, -1.10431526e+00,  1.01105006e+00],\n",
       "       [ 2.39325642e-01, -3.52275765e-01,  1.60639583e-01,\n",
       "        -3.84060174e-01,  6.89091566e-01,  7.63916743e-02,\n",
       "         4.35273739e-01,  9.05538514e-01,  1.01105006e+00],\n",
       "       [-3.01758418e-01,  6.49508441e-01, -5.98747538e-01,\n",
       "        -3.84060174e-01,  4.58614095e-01, -5.10177920e-01,\n",
       "        -2.36080672e-01,  9.05538514e-01,  1.01105006e+00],\n",
       "       [ 1.05095173e+00, -1.95513049e+00, -9.78441098e-01,\n",
       "        -3.37273727e-01,  9.05600706e-01,  8.76979905e-01,\n",
       "         9.67727237e-01,  9.05538514e-01,  1.01105006e+00],\n",
       "       [ 5.09867672e-01, -4.19061378e-01,  5.40333144e-01,\n",
       "        -3.37273727e-01,  4.93534924e-01, -3.99205294e-01,\n",
       "        -2.77293031e-02,  9.05538514e-01,  1.01105006e+00]])"
      ]
     },
     "execution_count": 21,
     "metadata": {},
     "output_type": "execute_result"
    }
   ],
   "source": [
    "X_test_scaled"
   ]
  },
  {
   "cell_type": "markdown",
   "metadata": {},
   "source": [
    "## Visualising to understand the Effect of Standard Scaler"
   ]
  },
  {
   "cell_type": "code",
   "execution_count": 22,
   "metadata": {},
   "outputs": [
    {
     "data": {
      "text/plain": [
       "Text(0.5, 1.0, 'X_train after scaling')"
      ]
     },
     "execution_count": 22,
     "metadata": {},
     "output_type": "execute_result"
    },
    {
     "data": {
      "image/png": "[encoded data removed]",
      "text/plain": [
       "<Figure size 1080x360 with 2 Axes>"
      ]
     },
     "metadata": {
      "needs_background": "light"
     },
     "output_type": "display_data"
    }
   ],
   "source": [
    "plt.subplots(figsize= (15,5))\n",
    "plt.subplot(1,2,1)\n",
    "sns.boxplot(data = X_train)\n",
    "plt.title('X_train Before Scaling')\n",
    "plt.subplot(1,2,2)\n",
    "sns.boxplot(data = X_train_scaled)\n",
    "plt.title('X_train after scaling')"
   ]
  },
  {
   "cell_type": "markdown",
   "metadata": {},
   "source": [
    "## Model Training \n",
    "### Linear Regression "
   ]
  },
  {
   "cell_type": "code",
   "execution_count": 23,
   "metadata": {},
   "outputs": [],
   "source": [
    "X_train = X_train.to_numpy()\n",
    "X_test = X_test.to_numpy()"
   ]
  },
  {
   "cell_type": "code",
   "execution_count": 24,
   "metadata": {},
   "outputs": [
    {
     "name": "stdout",
     "output_type": "stream",
     "text": [
      "mean_absolute_error 0.5468236465249993\n",
      "r2_score 0.9847657384266951\n"
     ]
    }
   ],
   "source": [
    "Lreg = LinearRegression()\n",
    "Lreg.fit(X_train_scaled,y_train)\n",
    "y_pred = Lreg.predict(X_test_scaled)\n",
    "mae = mean_absolute_error(y_test,y_pred)\n",
    "score = r2_score(y_test,y_pred)\n",
    "print('mean_absolute_error',mae)\n",
    "print('r2_score',score)\n"
   ]
  },
  {
   "cell_type": "code",
   "execution_count": 27,
   "metadata": {},
   "outputs": [
    {
     "data": {
      "text/plain": [
       "<matplotlib.collections.PathCollection at 0x1e9cc8b3fa0>"
      ]
     },
     "execution_count": 27,
     "metadata": {},
     "output_type": "execute_result"
    },
    {
     "data": {
      "image/png": "[encoded data removed]",
      "text/plain": [
       "<Figure size 432x288 with 1 Axes>"
      ]
     },
     "metadata": {
      "needs_background": "light"
     },
     "output_type": "display_data"
    }
   ],
   "source": [
    "plt.scatter(y_test,y_pred)"
   ]
  },
  {
   "cell_type": "markdown",
   "metadata": {},
   "source": [
    "## Ridge Regression"
   ]
  },
  {
   "cell_type": "code",
   "execution_count": 28,
   "metadata": {},
   "outputs": [
    {
     "name": "stdout",
     "output_type": "stream",
     "text": [
      "mean_absolute_error 0.5642305340105718\n",
      "r2_score 0.9842993364555512\n"
     ]
    },
    {
     "data": {
      "text/plain": [
       "<matplotlib.collections.PathCollection at 0x1e9cc1e4b20>"
      ]
     },
     "execution_count": 28,
     "metadata": {},
     "output_type": "execute_result"
    },
    {
     "data": {
      "image/png": "[encoded data removed]",
      "text/plain": [
       "<Figure size 432x288 with 1 Axes>"
      ]
     },
     "metadata": {
      "needs_background": "light"
     },
     "output_type": "display_data"
    }
   ],
   "source": [
    "ridge = Ridge()\n",
    "ridge.fit(X_train_scaled,y_train)\n",
    "y_pred = ridge.predict(X_test_scaled)\n",
    "mae = mean_absolute_error(y_test,y_pred)\n",
    "score = r2_score(y_test,y_pred)\n",
    "print('mean_absolute_error',mae)\n",
    "print('r2_score',score)\n",
    "plt.scatter(y_test,y_pred)"
   ]
  },
  {
   "cell_type": "markdown",
   "metadata": {},
   "source": [
    "### Ridge Cross Validation "
   ]
  },
  {
   "cell_type": "code",
   "execution_count": 43,
   "metadata": {},
   "outputs": [
    {
     "data": {
      "text/html": [
       "<style>#sk-container-id-4 {color: black;}#sk-container-id-4 pre{padding: 0;}#sk-container-id-4 div.sk-toggleable {background-color: white;}#sk-container-id-4 label.sk-toggleable__label {cursor: pointer;display: block;width: 100%;margin-bottom: 0;padding: 0.3em;box-sizing: border-box;text-align: center;}#sk-container-id-4 label.sk-toggleable__label-arrow:before {content: \"▸\";float: left;margin-right: 0.25em;color: #696969;}#sk-container-id-4 label.sk-toggleable__label-arrow:hover:before {color: black;}#sk-container-id-4 div.sk-estimator:hover label.sk-toggleable__label-arrow:before {color: black;}#sk-container-id-4 div.sk-toggleable__content {max-height: 0;max-width: 0;overflow: hidden;text-align: left;background-color: #f0f8ff;}#sk-container-id-4 div.sk-toggleable__content pre {margin: 0.2em;color: black;border-radius: 0.25em;background-color: #f0f8ff;}#sk-container-id-4 input.sk-toggleable__control:checked~div.sk-toggleable__content {max-height: 200px;max-width: 100%;overflow: auto;}#sk-container-id-4 input.sk-toggleable__control:checked~label.sk-toggleable__label-arrow:before {content: \"▾\";}#sk-container-id-4 div.sk-estimator input.sk-toggleable__control:checked~label.sk-toggleable__label {background-color: #d4ebff;}#sk-container-id-4 div.sk-label input.sk-toggleable__control:checked~label.sk-toggleable__label {background-color: #d4ebff;}#sk-container-id-4 input.sk-hidden--visually {border: 0;clip: rect(1px 1px 1px 1px);clip: rect(1px, 1px, 1px, 1px);height: 1px;margin: -1px;overflow: hidden;padding: 0;position: absolute;width: 1px;}#sk-container-id-4 div.sk-estimator {font-family: monospace;background-color: #f0f8ff;border: 1px dotted black;border-radius: 0.25em;box-sizing: border-box;margin-bottom: 0.5em;}#sk-container-id-4 div.sk-estimator:hover {background-color: #d4ebff;}#sk-container-id-4 div.sk-parallel-item::after {content: \"\";width: 100%;border-bottom: 1px solid gray;flex-grow: 1;}#sk-container-id-4 div.sk-label:hover label.sk-toggleable__label {background-color: #d4ebff;}#sk-container-id-4 div.sk-serial::before {content: \"\";position: absolute;border-left: 1px solid gray;box-sizing: border-box;top: 0;bottom: 0;left: 50%;z-index: 0;}#sk-container-id-4 div.sk-serial {display: flex;flex-direction: column;align-items: center;background-color: white;padding-right: 0.2em;padding-left: 0.2em;position: relative;}#sk-container-id-4 div.sk-item {position: relative;z-index: 1;}#sk-container-id-4 div.sk-parallel {display: flex;align-items: stretch;justify-content: center;background-color: white;position: relative;}#sk-container-id-4 div.sk-item::before, #sk-container-id-4 div.sk-parallel-item::before {content: \"\";position: absolute;border-left: 1px solid gray;box-sizing: border-box;top: 0;bottom: 0;left: 50%;z-index: -1;}#sk-container-id-4 div.sk-parallel-item {display: flex;flex-direction: column;z-index: 1;position: relative;background-color: white;}#sk-container-id-4 div.sk-parallel-item:first-child::after {align-self: flex-end;width: 50%;}#sk-container-id-4 div.sk-parallel-item:last-child::after {align-self: flex-start;width: 50%;}#sk-container-id-4 div.sk-parallel-item:only-child::after {width: 0;}#sk-container-id-4 div.sk-dashed-wrapped {border: 1px dashed gray;margin: 0 0.4em 0.5em 0.4em;box-sizing: border-box;padding-bottom: 0.4em;background-color: white;}#sk-container-id-4 div.sk-label label {font-family: monospace;font-weight: bold;display: inline-block;line-height: 1.2em;}#sk-container-id-4 div.sk-label-container {text-align: center;}#sk-container-id-4 div.sk-container {/* jupyter's `normalize.less` sets `[hidden] { display: none; }` but bootstrap.min.css set `[hidden] { display: none !important; }` so we also need the `!important` here to be able to override the default hidden behavior on the sphinx rendered scikit-learn.org. See: https://github.com/scikit-learn/scikit-learn/issues/21755 */display: inline-block !important;position: relative;}#sk-container-id-4 div.sk-text-repr-fallback {display: none;}</style><div id=\"sk-container-id-4\" class=\"sk-top-container\"><div class=\"sk-text-repr-fallback\"><pre>RidgeCV(cv=5)</pre><b>In a Jupyter environment, please rerun this cell to show the HTML representation or trust the notebook. <br />On GitHub, the HTML representation is unable to render, please try loading this page with nbviewer.org.</b></div><div class=\"sk-container\" hidden><div class=\"sk-item\"><div class=\"sk-estimator sk-toggleable\"><input class=\"sk-toggleable__control sk-hidden--visually\" id=\"sk-estimator-id-4\" type=\"checkbox\" checked><label for=\"sk-estimator-id-4\" class=\"sk-toggleable__label sk-toggleable__label-arrow\">RidgeCV</label><div class=\"sk-toggleable__content\"><pre>RidgeCV(cv=5)</pre></div></div></div></div></div>"
      ],
      "text/plain": [
       "RidgeCV(cv=5)"
      ]
     },
     "execution_count": 43,
     "metadata": {},
     "output_type": "execute_result"
    }
   ],
   "source": [
    "ridgecv = RidgeCV(cv=5)\n",
    "ridgecv.fit(X_train_scaled,y_train)\n"
   ]
  },
  {
   "cell_type": "code",
   "execution_count": 44,
   "metadata": {},
   "outputs": [
    {
     "data": {
      "text/plain": [
       "0.9549267274722452"
      ]
     },
     "execution_count": 44,
     "metadata": {},
     "output_type": "execute_result"
    }
   ],
   "source": [
    "ridgecv.best_score_"
   ]
  },
  {
   "cell_type": "code",
   "execution_count": 45,
   "metadata": {},
   "outputs": [
    {
     "name": "stdout",
     "output_type": "stream",
     "text": [
      "mean_absolute_error 0.5642305340105718\n",
      "r2_score 0.9842993364555512\n"
     ]
    },
    {
     "data": {
      "text/plain": [
       "<matplotlib.collections.PathCollection at 0x1e9ccbdc310>"
      ]
     },
     "execution_count": 45,
     "metadata": {},
     "output_type": "execute_result"
    },
    {
     "data": {
      "image/png": "[encoded data removed]",
      "text/plain": [
       "<Figure size 432x288 with 1 Axes>"
      ]
     },
     "metadata": {
      "needs_background": "light"
     },
     "output_type": "display_data"
    }
   ],
   "source": [
    "y_pred = ridgecv.predict(X_test_scaled)\n",
    "mae = mean_absolute_error(y_test,y_pred)\n",
    "score = r2_score(y_test,y_pred)\n",
    "print('mean_absolute_error',mae)\n",
    "print('r2_score',score)\n",
    "plt.scatter(y_test,y_pred)"
   ]
  },
  {
   "cell_type": "markdown",
   "metadata": {},
   "source": [
    "## Lasso Regression"
   ]
  },
  {
   "cell_type": "code",
   "execution_count": 26,
   "metadata": {},
   "outputs": [
    {
     "name": "stdout",
     "output_type": "stream",
     "text": [
      "mean_absolute_error 1.1331759949144085\n",
      "r2_score 0.9492020263112388\n"
     ]
    },
    {
     "data": {
      "text/plain": [
       "<matplotlib.collections.PathCollection at 0x1e9cc166760>"
      ]
     },
     "execution_count": 26,
     "metadata": {},
     "output_type": "execute_result"
    },
    {
     "data": {
      "image/png": "[encoded data removed]",
      "text/plain": [
       "<Figure size 432x288 with 1 Axes>"
      ]
     },
     "metadata": {
      "needs_background": "light"
     },
     "output_type": "display_data"
    }
   ],
   "source": [
    "lasso = Lasso()\n",
    "lasso.fit(X_train_scaled,y_train)\n",
    "y_pred = lasso.predict(X_test_scaled)\n",
    "mae = mean_absolute_error(y_test,y_pred)\n",
    "score = r2_score(y_test,y_pred)\n",
    "print('mean_absolute_error',mae)\n",
    "print('r2_score',score)\n",
    "plt.scatter(y_test,y_pred)"
   ]
  },
  {
   "cell_type": "markdown",
   "metadata": {},
   "source": [
    "### Lasso Cross Validation"
   ]
  },
  {
   "cell_type": "code",
   "execution_count": 30,
   "metadata": {},
   "outputs": [
    {
     "data": {
      "text/html": [
       "<style>#sk-container-id-1 {color: black;}#sk-container-id-1 pre{padding: 0;}#sk-container-id-1 div.sk-toggleable {background-color: white;}#sk-container-id-1 label.sk-toggleable__label {cursor: pointer;display: block;width: 100%;margin-bottom: 0;padding: 0.3em;box-sizing: border-box;text-align: center;}#sk-container-id-1 label.sk-toggleable__label-arrow:before {content: \"▸\";float: left;margin-right: 0.25em;color: #696969;}#sk-container-id-1 label.sk-toggleable__label-arrow:hover:before {color: black;}#sk-container-id-1 div.sk-estimator:hover label.sk-toggleable__label-arrow:before {color: black;}#sk-container-id-1 div.sk-toggleable__content {max-height: 0;max-width: 0;overflow: hidden;text-align: left;background-color: #f0f8ff;}#sk-container-id-1 div.sk-toggleable__content pre {margin: 0.2em;color: black;border-radius: 0.25em;background-color: #f0f8ff;}#sk-container-id-1 input.sk-toggleable__control:checked~div.sk-toggleable__content {max-height: 200px;max-width: 100%;overflow: auto;}#sk-container-id-1 input.sk-toggleable__control:checked~label.sk-toggleable__label-arrow:before {content: \"▾\";}#sk-container-id-1 div.sk-estimator input.sk-toggleable__control:checked~label.sk-toggleable__label {background-color: #d4ebff;}#sk-container-id-1 div.sk-label input.sk-toggleable__control:checked~label.sk-toggleable__label {background-color: #d4ebff;}#sk-container-id-1 input.sk-hidden--visually {border: 0;clip: rect(1px 1px 1px 1px);clip: rect(1px, 1px, 1px, 1px);height: 1px;margin: -1px;overflow: hidden;padding: 0;position: absolute;width: 1px;}#sk-container-id-1 div.sk-estimator {font-family: monospace;background-color: #f0f8ff;border: 1px dotted black;border-radius: 0.25em;box-sizing: border-box;margin-bottom: 0.5em;}#sk-container-id-1 div.sk-estimator:hover {background-color: #d4ebff;}#sk-container-id-1 div.sk-parallel-item::after {content: \"\";width: 100%;border-bottom: 1px solid gray;flex-grow: 1;}#sk-container-id-1 div.sk-label:hover label.sk-toggleable__label {background-color: #d4ebff;}#sk-container-id-1 div.sk-serial::before {content: \"\";position: absolute;border-left: 1px solid gray;box-sizing: border-box;top: 0;bottom: 0;left: 50%;z-index: 0;}#sk-container-id-1 div.sk-serial {display: flex;flex-direction: column;align-items: center;background-color: white;padding-right: 0.2em;padding-left: 0.2em;position: relative;}#sk-container-id-1 div.sk-item {position: relative;z-index: 1;}#sk-container-id-1 div.sk-parallel {display: flex;align-items: stretch;justify-content: center;background-color: white;position: relative;}#sk-container-id-1 div.sk-item::before, #sk-container-id-1 div.sk-parallel-item::before {content: \"\";position: absolute;border-left: 1px solid gray;box-sizing: border-box;top: 0;bottom: 0;left: 50%;z-index: -1;}#sk-container-id-1 div.sk-parallel-item {display: flex;flex-direction: column;z-index: 1;position: relative;background-color: white;}#sk-container-id-1 div.sk-parallel-item:first-child::after {align-self: flex-end;width: 50%;}#sk-container-id-1 div.sk-parallel-item:last-child::after {align-self: flex-start;width: 50%;}#sk-container-id-1 div.sk-parallel-item:only-child::after {width: 0;}#sk-container-id-1 div.sk-dashed-wrapped {border: 1px dashed gray;margin: 0 0.4em 0.5em 0.4em;box-sizing: border-box;padding-bottom: 0.4em;background-color: white;}#sk-container-id-1 div.sk-label label {font-family: monospace;font-weight: bold;display: inline-block;line-height: 1.2em;}#sk-container-id-1 div.sk-label-container {text-align: center;}#sk-container-id-1 div.sk-container {/* jupyter's `normalize.less` sets `[hidden] { display: none; }` but bootstrap.min.css set `[hidden] { display: none !important; }` so we also need the `!important` here to be able to override the default hidden behavior on the sphinx rendered scikit-learn.org. See: https://github.com/scikit-learn/scikit-learn/issues/21755 */display: inline-block !important;position: relative;}#sk-container-id-1 div.sk-text-repr-fallback {display: none;}</style><div id=\"sk-container-id-1\" class=\"sk-top-container\"><div class=\"sk-text-repr-fallback\"><pre>LassoCV(cv=5)</pre><b>In a Jupyter environment, please rerun this cell to show the HTML representation or trust the notebook. <br />On GitHub, the HTML representation is unable to render, please try loading this page with nbviewer.org.</b></div><div class=\"sk-container\" hidden><div class=\"sk-item\"><div class=\"sk-estimator sk-toggleable\"><input class=\"sk-toggleable__control sk-hidden--visually\" id=\"sk-estimator-id-1\" type=\"checkbox\" checked><label for=\"sk-estimator-id-1\" class=\"sk-toggleable__label sk-toggleable__label-arrow\">LassoCV</label><div class=\"sk-toggleable__content\"><pre>LassoCV(cv=5)</pre></div></div></div></div></div>"
      ],
      "text/plain": [
       "LassoCV(cv=5)"
      ]
     },
     "execution_count": 30,
     "metadata": {},
     "output_type": "execute_result"
    }
   ],
   "source": [
    "lassocv = LassoCV(cv=5)\n",
    "lassocv.fit(X_train_scaled,y_train)\n"
   ]
  },
  {
   "cell_type": "code",
   "execution_count": 47,
   "metadata": {},
   "outputs": [
    {
     "data": {
      "text/plain": [
       "7.156043956043957"
      ]
     },
     "execution_count": 47,
     "metadata": {},
     "output_type": "execute_result"
    }
   ],
   "source": [
    "lassocv.intercept_"
   ]
  },
  {
   "cell_type": "code",
   "execution_count": 34,
   "metadata": {},
   "outputs": [
    {
     "name": "stdout",
     "output_type": "stream",
     "text": [
      "mean_absolute_error 0.6199701158263432\n",
      "r2_score 0.9820946715928275\n"
     ]
    },
    {
     "data": {
      "text/plain": [
       "<matplotlib.collections.PathCollection at 0x1e9cc9d6310>"
      ]
     },
     "execution_count": 34,
     "metadata": {},
     "output_type": "execute_result"
    },
    {
     "data": {
      "image/png": "[encoded data removed]",
      "text/plain": [
       "<Figure size 432x288 with 1 Axes>"
      ]
     },
     "metadata": {
      "needs_background": "light"
     },
     "output_type": "display_data"
    }
   ],
   "source": [
    "y_pred = lassocv.predict(X_test_scaled)\n",
    "mae = mean_absolute_error(y_test,y_pred)\n",
    "score = r2_score(y_test,y_pred)\n",
    "print('mean_absolute_error',mae)\n",
    "print('r2_score',score)\n",
    "plt.scatter(y_test,y_pred)\n"
   ]
  },
  {
   "cell_type": "markdown",
   "metadata": {},
   "source": [
    "## Elastic Net Regression"
   ]
  },
  {
   "cell_type": "code",
   "execution_count": 49,
   "metadata": {},
   "outputs": [
    {
     "data": {
      "text/html": [
       "<style>#sk-container-id-5 {color: black;}#sk-container-id-5 pre{padding: 0;}#sk-container-id-5 div.sk-toggleable {background-color: white;}#sk-container-id-5 label.sk-toggleable__label {cursor: pointer;display: block;width: 100%;margin-bottom: 0;padding: 0.3em;box-sizing: border-box;text-align: center;}#sk-container-id-5 label.sk-toggleable__label-arrow:before {content: \"▸\";float: left;margin-right: 0.25em;color: #696969;}#sk-container-id-5 label.sk-toggleable__label-arrow:hover:before {color: black;}#sk-container-id-5 div.sk-estimator:hover label.sk-toggleable__label-arrow:before {color: black;}#sk-container-id-5 div.sk-toggleable__content {max-height: 0;max-width: 0;overflow: hidden;text-align: left;background-color: #f0f8ff;}#sk-container-id-5 div.sk-toggleable__content pre {margin: 0.2em;color: black;border-radius: 0.25em;background-color: #f0f8ff;}#sk-container-id-5 input.sk-toggleable__control:checked~div.sk-toggleable__content {max-height: 200px;max-width: 100%;overflow: auto;}#sk-container-id-5 input.sk-toggleable__control:checked~label.sk-toggleable__label-arrow:before {content: \"▾\";}#sk-container-id-5 div.sk-estimator input.sk-toggleable__control:checked~label.sk-toggleable__label {background-color: #d4ebff;}#sk-container-id-5 div.sk-label input.sk-toggleable__control:checked~label.sk-toggleable__label {background-color: #d4ebff;}#sk-container-id-5 input.sk-hidden--visually {border: 0;clip: rect(1px 1px 1px 1px);clip: rect(1px, 1px, 1px, 1px);height: 1px;margin: -1px;overflow: hidden;padding: 0;position: absolute;width: 1px;}#sk-container-id-5 div.sk-estimator {font-family: monospace;background-color: #f0f8ff;border: 1px dotted black;border-radius: 0.25em;box-sizing: border-box;margin-bottom: 0.5em;}#sk-container-id-5 div.sk-estimator:hover {background-color: #d4ebff;}#sk-container-id-5 div.sk-parallel-item::after {content: \"\";width: 100%;border-bottom: 1px solid gray;flex-grow: 1;}#sk-container-id-5 div.sk-label:hover label.sk-toggleable__label {background-color: #d4ebff;}#sk-container-id-5 div.sk-serial::before {content: \"\";position: absolute;border-left: 1px solid gray;box-sizing: border-box;top: 0;bottom: 0;left: 50%;z-index: 0;}#sk-container-id-5 div.sk-serial {display: flex;flex-direction: column;align-items: center;background-color: white;padding-right: 0.2em;padding-left: 0.2em;position: relative;}#sk-container-id-5 div.sk-item {position: relative;z-index: 1;}#sk-container-id-5 div.sk-parallel {display: flex;align-items: stretch;justify-content: center;background-color: white;position: relative;}#sk-container-id-5 div.sk-item::before, #sk-container-id-5 div.sk-parallel-item::before {content: \"\";position: absolute;border-left: 1px solid gray;box-sizing: border-box;top: 0;bottom: 0;left: 50%;z-index: -1;}#sk-container-id-5 div.sk-parallel-item {display: flex;flex-direction: column;z-index: 1;position: relative;background-color: white;}#sk-container-id-5 div.sk-parallel-item:first-child::after {align-self: flex-end;width: 50%;}#sk-container-id-5 div.sk-parallel-item:last-child::after {align-self: flex-start;width: 50%;}#sk-container-id-5 div.sk-parallel-item:only-child::after {width: 0;}#sk-container-id-5 div.sk-dashed-wrapped {border: 1px dashed gray;margin: 0 0.4em 0.5em 0.4em;box-sizing: border-box;padding-bottom: 0.4em;background-color: white;}#sk-container-id-5 div.sk-label label {font-family: monospace;font-weight: bold;display: inline-block;line-height: 1.2em;}#sk-container-id-5 div.sk-label-container {text-align: center;}#sk-container-id-5 div.sk-container {/* jupyter's `normalize.less` sets `[hidden] { display: none; }` but bootstrap.min.css set `[hidden] { display: none !important; }` so we also need the `!important` here to be able to override the default hidden behavior on the sphinx rendered scikit-learn.org. See: https://github.com/scikit-learn/scikit-learn/issues/21755 */display: inline-block !important;position: relative;}#sk-container-id-5 div.sk-text-repr-fallback {display: none;}</style><div id=\"sk-container-id-5\" class=\"sk-top-container\"><div class=\"sk-text-repr-fallback\"><pre>ElasticNet()</pre><b>In a Jupyter environment, please rerun this cell to show the HTML representation or trust the notebook. <br />On GitHub, the HTML representation is unable to render, please try loading this page with nbviewer.org.</b></div><div class=\"sk-container\" hidden><div class=\"sk-item\"><div class=\"sk-estimator sk-toggleable\"><input class=\"sk-toggleable__control sk-hidden--visually\" id=\"sk-estimator-id-5\" type=\"checkbox\" checked><label for=\"sk-estimator-id-5\" class=\"sk-toggleable__label sk-toggleable__label-arrow\">ElasticNet</label><div class=\"sk-toggleable__content\"><pre>ElasticNet()</pre></div></div></div></div></div>"
      ],
      "text/plain": [
       "ElasticNet()"
      ]
     },
     "execution_count": 49,
     "metadata": {},
     "output_type": "execute_result"
    }
   ],
   "source": [
    "elasticnet = ElasticNet()\n",
    "elasticnet.fit(X_train_scaled,y_train)\n"
   ]
  },
  {
   "cell_type": "code",
   "execution_count": 50,
   "metadata": {},
   "outputs": [
    {
     "name": "stdout",
     "output_type": "stream",
     "text": [
      "mean_absolute_error 1.8822353634896\n",
      "r2_score 0.9842993364555512\n"
     ]
    },
    {
     "data": {
      "text/plain": [
       "<matplotlib.collections.PathCollection at 0x1e9cdc2c7f0>"
      ]
     },
     "execution_count": 50,
     "metadata": {},
     "output_type": "execute_result"
    },
    {
     "data": {
      "image/png": "[encoded data removed]",
      "text/plain": [
       "<Figure size 432x288 with 1 Axes>"
      ]
     },
     "metadata": {
      "needs_background": "light"
     },
     "output_type": "display_data"
    }
   ],
   "source": [
    "y_pred = elasticnet.predict(X_test_scaled)\n",
    "mae= mean_absolute_error(y_test,y_pred)\n",
    "print('mean_absolute_error',mae)\n",
    "print('r2_score',score)\n",
    "plt.scatter(y_test,y_pred)"
   ]
  },
  {
   "cell_type": "markdown",
   "metadata": {},
   "source": [
    "### ElasticNet Cross Validation"
   ]
  },
  {
   "cell_type": "code",
   "execution_count": 51,
   "metadata": {},
   "outputs": [
    {
     "data": {
      "text/html": [
       "<style>#sk-container-id-6 {color: black;}#sk-container-id-6 pre{padding: 0;}#sk-container-id-6 div.sk-toggleable {background-color: white;}#sk-container-id-6 label.sk-toggleable__label {cursor: pointer;display: block;width: 100%;margin-bottom: 0;padding: 0.3em;box-sizing: border-box;text-align: center;}#sk-container-id-6 label.sk-toggleable__label-arrow:before {content: \"▸\";float: left;margin-right: 0.25em;color: #696969;}#sk-container-id-6 label.sk-toggleable__label-arrow:hover:before {color: black;}#sk-container-id-6 div.sk-estimator:hover label.sk-toggleable__label-arrow:before {color: black;}#sk-container-id-6 div.sk-toggleable__content {max-height: 0;max-width: 0;overflow: hidden;text-align: left;background-color: #f0f8ff;}#sk-container-id-6 div.sk-toggleable__content pre {margin: 0.2em;color: black;border-radius: 0.25em;background-color: #f0f8ff;}#sk-container-id-6 input.sk-toggleable__control:checked~div.sk-toggleable__content {max-height: 200px;max-width: 100%;overflow: auto;}#sk-container-id-6 input.sk-toggleable__control:checked~label.sk-toggleable__label-arrow:before {content: \"▾\";}#sk-container-id-6 div.sk-estimator input.sk-toggleable__control:checked~label.sk-toggleable__label {background-color: #d4ebff;}#sk-container-id-6 div.sk-label input.sk-toggleable__control:checked~label.sk-toggleable__label {background-color: #d4ebff;}#sk-container-id-6 input.sk-hidden--visually {border: 0;clip: rect(1px 1px 1px 1px);clip: rect(1px, 1px, 1px, 1px);height: 1px;margin: -1px;overflow: hidden;padding: 0;position: absolute;width: 1px;}#sk-container-id-6 div.sk-estimator {font-family: monospace;background-color: #f0f8ff;border: 1px dotted black;border-radius: 0.25em;box-sizing: border-box;margin-bottom: 0.5em;}#sk-container-id-6 div.sk-estimator:hover {background-color: #d4ebff;}#sk-container-id-6 div.sk-parallel-item::after {content: \"\";width: 100%;border-bottom: 1px solid gray;flex-grow: 1;}#sk-container-id-6 div.sk-label:hover label.sk-toggleable__label {background-color: #d4ebff;}#sk-container-id-6 div.sk-serial::before {content: \"\";position: absolute;border-left: 1px solid gray;box-sizing: border-box;top: 0;bottom: 0;left: 50%;z-index: 0;}#sk-container-id-6 div.sk-serial {display: flex;flex-direction: column;align-items: center;background-color: white;padding-right: 0.2em;padding-left: 0.2em;position: relative;}#sk-container-id-6 div.sk-item {position: relative;z-index: 1;}#sk-container-id-6 div.sk-parallel {display: flex;align-items: stretch;justify-content: center;background-color: white;position: relative;}#sk-container-id-6 div.sk-item::before, #sk-container-id-6 div.sk-parallel-item::before {content: \"\";position: absolute;border-left: 1px solid gray;box-sizing: border-box;top: 0;bottom: 0;left: 50%;z-index: -1;}#sk-container-id-6 div.sk-parallel-item {display: flex;flex-direction: column;z-index: 1;position: relative;background-color: white;}#sk-container-id-6 div.sk-parallel-item:first-child::after {align-self: flex-end;width: 50%;}#sk-container-id-6 div.sk-parallel-item:last-child::after {align-self: flex-start;width: 50%;}#sk-container-id-6 div.sk-parallel-item:only-child::after {width: 0;}#sk-container-id-6 div.sk-dashed-wrapped {border: 1px dashed gray;margin: 0 0.4em 0.5em 0.4em;box-sizing: border-box;padding-bottom: 0.4em;background-color: white;}#sk-container-id-6 div.sk-label label {font-family: monospace;font-weight: bold;display: inline-block;line-height: 1.2em;}#sk-container-id-6 div.sk-label-container {text-align: center;}#sk-container-id-6 div.sk-container {/* jupyter's `normalize.less` sets `[hidden] { display: none; }` but bootstrap.min.css set `[hidden] { display: none !important; }` so we also need the `!important` here to be able to override the default hidden behavior on the sphinx rendered scikit-learn.org. See: https://github.com/scikit-learn/scikit-learn/issues/21755 */display: inline-block !important;position: relative;}#sk-container-id-6 div.sk-text-repr-fallback {display: none;}</style><div id=\"sk-container-id-6\" class=\"sk-top-container\"><div class=\"sk-text-repr-fallback\"><pre>ElasticNetCV(cv=5)</pre><b>In a Jupyter environment, please rerun this cell to show the HTML representation or trust the notebook. <br />On GitHub, the HTML representation is unable to render, please try loading this page with nbviewer.org.</b></div><div class=\"sk-container\" hidden><div class=\"sk-item\"><div class=\"sk-estimator sk-toggleable\"><input class=\"sk-toggleable__control sk-hidden--visually\" id=\"sk-estimator-id-6\" type=\"checkbox\" checked><label for=\"sk-estimator-id-6\" class=\"sk-toggleable__label sk-toggleable__label-arrow\">ElasticNetCV</label><div class=\"sk-toggleable__content\"><pre>ElasticNetCV(cv=5)</pre></div></div></div></div></div>"
      ],
      "text/plain": [
       "ElasticNetCV(cv=5)"
      ]
     },
     "execution_count": 51,
     "metadata": {},
     "output_type": "execute_result"
    }
   ],
   "source": [
    "elasticnetcv = ElasticNetCV(cv=5)\n",
    "elasticnetcv.fit(X_train_scaled,y_train)\n"
   ]
  },
  {
   "cell_type": "code",
   "execution_count": null,
   "metadata": {},
   "outputs": [
    {
     "data": {
      "text/plain": [
       "array([[53.99690233, 65.39074075, 54.89628985, 77.90299066, 43.34226941],\n",
       "       [52.57580575, 64.62234745, 53.744793  , 77.60921421, 42.30310502],\n",
       "       [51.11104709, 62.99703302, 52.17649022, 76.53887034, 41.00613837],\n",
       "       [49.61037668, 61.26183674, 50.57039748, 74.67053859, 39.67994098],\n",
       "       [48.07677137, 59.48562789, 48.86189586, 72.53190776, 38.32743244],\n",
       "       [46.08919463, 57.21227804, 46.85067587, 69.99343362, 36.64273851],\n",
       "       [43.93304229, 54.81307   , 44.65826477, 67.19431714, 34.65787048],\n",
       "       [41.80546452, 52.43573064, 42.39238637, 64.39190172, 32.6541552 ],\n",
       "       [39.71309973, 50.06862734, 40.16732063, 61.6188179 , 30.67748611],\n",
       "       [37.63649808, 47.60730813, 37.96880498, 58.88319233, 28.76304656],\n",
       "       [35.48905272, 45.2114555 , 35.74224936, 56.09403417, 26.91571606],\n",
       "       [33.36370035, 42.89274496, 33.46771793, 53.24006353, 25.13971517],\n",
       "       [31.29021796, 40.65450553, 31.2980323 , 50.46056554, 23.40823907],\n",
       "       [29.31299261, 38.49931979, 29.23545451, 47.78188844, 21.68975743],\n",
       "       [27.43318227, 36.42903573, 27.28126827, 45.20691722, 20.06888131],\n",
       "       [25.65110859, 34.44479157, 25.43581619, 42.73763705, 18.54536655],\n",
       "       [23.96630671, 32.54705225, 23.69855333, 40.37516802, 17.1181929 ],\n",
       "       [22.37758625, 30.73565567, 22.06811489, 38.11989695, 15.78563104],\n",
       "       [20.88310187, 29.00972226, 20.54239543, 35.97115664, 14.54535537],\n",
       "       [19.48045293, 27.36818152, 19.11863909, 33.92790107, 13.39434245],\n",
       "       [18.16662467, 25.80927331, 17.7934534 , 31.98836575, 12.32926482],\n",
       "       [16.93834415, 24.33091874, 16.56310462, 30.15025205, 11.34635882],\n",
       "       [15.79195499, 22.93072399, 15.42344575, 28.4108084 , 10.44156734],\n",
       "       [14.72355601, 21.60604447, 14.37005981, 26.76691084,  9.61062237],\n",
       "       [13.72907826, 20.35377087, 13.3983499 , 25.21508817,  8.84912273],\n",
       "       [12.8042942 , 19.17135253, 12.50362266, 23.75170464,  8.15260538],\n",
       "       [11.94507774, 18.05558112, 11.68099177, 22.37298993,  7.51648332],\n",
       "       [11.14724487, 17.00338015, 10.92603696, 21.07506645,  6.9365614 ],\n",
       "       [10.4067054 , 16.0116798 , 10.2341116 , 19.85402499,  6.40846997],\n",
       "       [ 9.71948708, 15.0774501 ,  9.60081422, 18.70597245,  5.92806765],\n",
       "       [ 9.08176882, 14.19723968,  9.02193764, 17.62683072,  5.491392  ],\n",
       "       [ 8.48975571, 13.36903094,  8.49349871, 16.61321842,  5.0945255 ],\n",
       "       [ 7.94027227, 12.5896991 ,  8.01145196, 15.66137506,  4.73422522],\n",
       "       [ 7.42997059, 11.8566031 ,  7.57285538, 14.76781569,  4.40705782],\n",
       "       [ 6.955832  , 11.16722544,  7.17427221, 13.92920677,  4.1099537 ],\n",
       "       [ 6.5150546 , 10.51862514,  6.81275805, 13.14237484,  3.84993813],\n",
       "       [ 6.10490506,  9.90957198,  6.48562679, 12.40389605,  3.62468659],\n",
       "       [ 5.72330343,  9.33747021,  6.19011553, 11.71168847,  3.42112511],\n",
       "       [ 5.36793507,  8.80030685,  5.92462575, 11.06274662,  3.23705031],\n",
       "       [ 5.03681202,  8.29618324,  5.68690191, 10.45455531,  3.07049302],\n",
       "       [ 4.72812296,  7.81925149,  5.47515821,  9.8847504 ,  2.91963338],\n",
       "       [ 4.4401434 ,  7.37267782,  5.28778718,  9.35073423,  2.78278117],\n",
       "       [ 4.17156807,  6.95511834,  5.12303764,  8.85116978,  2.65843683],\n",
       "       [ 3.92093457,  6.56558158,  4.9758689 ,  8.38374959,  2.54537888],\n",
       "       [ 3.68700511,  6.20198276,  4.84300427,  7.94663101,  2.44222221],\n",
       "       [ 3.46865279,  5.86273665,  4.73248929,  7.53085937,  2.34793716],\n",
       "       [ 3.26484046,  5.54615242,  4.64284493,  7.14116254,  2.26155764],\n",
       "       [ 3.06600689,  5.25129133,  4.57269467,  6.77809602,  2.18242158],\n",
       "       [ 2.87785639,  4.97656494,  4.52046549,  6.43995207,  2.10944354],\n",
       "       [ 2.70369252,  4.72072042,  4.48547159,  6.12552072,  2.04208065],\n",
       "       [ 2.54260278,  4.48250888,  4.46629458,  5.83320204,  1.97974083],\n",
       "       [ 2.39297631,  4.26452616,  4.46602319,  5.56163886,  1.92701632],\n",
       "       [ 2.25410027,  4.06353638,  4.4793957 ,  5.3095374 ,  1.88143045],\n",
       "       [ 2.12606092,  3.87753122,  4.5011936 ,  5.07573407,  1.83935342],\n",
       "       [ 2.01385561,  3.70545061,  4.53318317,  4.87585402,  1.80033416],\n",
       "       [ 1.92478874,  3.54629593,  4.57436618,  4.694387  ,  1.76400288],\n",
       "       [ 1.84308313,  3.39913724,  4.62389608,  4.52600054,  1.7263207 ],\n",
       "       [ 1.76774027,  3.26310942,  4.68096587,  4.36852661,  1.67366026],\n",
       "       [ 1.69907042,  3.13740773,  4.7448047 ,  4.22253164,  1.62443592],\n",
       "       [ 1.63631652,  3.02128355,  4.81467482,  4.08714638,  1.57848245],\n",
       "       [ 1.57905072,  2.91427171,  4.88949289,  3.9615624 ,  1.53555483],\n",
       "       [ 1.5267877 ,  2.81526033,  4.97054984,  3.8295099 ,  1.49543508],\n",
       "       [ 1.47908558,  2.72387477,  5.05544732,  3.69649908,  1.45792803],\n",
       "       [ 1.43554184,  2.63933708,  5.14342791,  3.57319627,  1.42285818],\n",
       "       [ 1.39578977,  2.56157218,  5.23392121,  3.45886546,  1.39006678],\n",
       "       [ 1.35949527,  2.48986572,  5.32639514,  3.3528402 ,  1.35940942],\n",
       "       [ 1.3263539 ,  2.42144242,  5.41485621,  3.2547657 ,  1.32955064],\n",
       "       [ 1.29608818,  2.35051795,  5.49647609,  3.16487579,  1.28886642],\n",
       "       [ 1.26082712,  2.28470132,  5.58224798,  3.06518879,  1.25152661],\n",
       "       [ 1.21190414,  2.22402131,  5.66850802,  2.971133  ,  1.21687754],\n",
       "       [ 1.16711333,  2.16808757,  5.75597406,  2.88462158,  1.18532618],\n",
       "       [ 1.12617731,  2.11653897,  5.84410609,  2.80504151,  1.15636314],\n",
       "       [ 1.08878737,  2.06849307,  5.93241478,  2.7321913 ,  1.12917793],\n",
       "       [ 1.05433581,  2.02476215,  6.02045331,  2.6653545 ,  1.104902  ],\n",
       "       [ 1.02321983,  1.98446778,  6.10781768,  2.60404163,  1.08267821],\n",
       "       [ 0.99483851,  1.94734432,  6.19414634,  2.54779812,  1.06235515],\n",
       "       [ 0.96896199,  1.91314043,  6.27402643,  2.49600966,  1.04378254],\n",
       "       [ 0.94537476,  1.88162345,  6.35048011,  2.44848442,  1.02664258],\n",
       "       [ 0.92387759,  1.85257839,  6.42504275,  2.40508408,  1.01116094],\n",
       "       [ 0.90428678,  1.82580683,  6.49753535,  2.3652576 ,  0.99704507],\n",
       "       [ 0.88643334,  1.80095008,  6.56781633,  2.32870389,  0.98416582],\n",
       "       [ 0.8701621 ,  1.77819822,  6.63578554,  2.29514581,  0.97241808],\n",
       "       [ 0.85527242,  1.75722099,  6.70360495,  2.26432916,  0.96170365],\n",
       "       [ 0.84174373,  1.73786661,  6.7688754 ,  2.23601893,  0.95193199],\n",
       "       [ 0.83006454,  1.72000466,  6.83339834,  2.21044853,  0.9430198 ],\n",
       "       [ 0.81975444,  1.70342925,  6.89601101,  2.18730666,  0.93486849],\n",
       "       [ 0.81038624,  1.68819021,  6.95598203,  2.16600359,  0.92775433],\n",
       "       [ 0.80186535,  1.6742022 ,  7.01333947,  2.14641702,  0.92144525],\n",
       "       [ 0.79411247,  1.66136618,  7.06810441,  2.12840374,  0.91570205],\n",
       "       [ 0.78702754,  1.64954143,  7.12031127,  2.11182216,  0.9104727 ],\n",
       "       [ 0.78059413,  1.63862832,  7.1702129 ,  2.09639812,  0.90567778],\n",
       "       [ 0.77474087,  1.62849289,  7.21922384,  2.0813324 ,  0.90130487],\n",
       "       [ 0.76940457,  1.61917022,  7.26965927,  2.06745314,  0.897354  ],\n",
       "       [ 0.76453718,  1.61057756,  7.3183624 ,  2.05464112,  0.89375061],\n",
       "       [ 0.76009576,  1.60263525,  7.36387001,  2.04279903,  0.89046236],\n",
       "       [ 0.75602519,  1.59529103,  7.4078219 ,  2.03187087,  0.88749619],\n",
       "       [ 0.7523185 ,  1.58849103,  7.44928034,  2.02172612,  0.88470581],\n",
       "       [ 0.74892874,  1.58217547,  7.48848123,  2.01235427,  0.88219747],\n",
       "       [ 0.74585211,  1.57635675,  7.52551896,  2.00367843,  0.87990545],\n",
       "       [ 0.74299189,  1.57097005,  7.55955768,  1.99583215,  0.8779009 ]])"
      ]
     },
     "execution_count": 52,
     "metadata": {},
     "output_type": "execute_result"
    }
   ],
   "source": [
    "elasticnetcv.mse_path_"
   ]
  },
  {
   "cell_type": "code",
   "execution_count": 53,
   "metadata": {},
   "outputs": [
    {
     "name": "stdout",
     "output_type": "stream",
     "text": [
      "mean_absolute_error 0.6575946731430903\n",
      "r2_score 0.9814217587854941\n"
     ]
    },
    {
     "data": {
      "text/plain": [
       "<matplotlib.collections.PathCollection at 0x1e9cdca4c40>"
      ]
     },
     "execution_count": 53,
     "metadata": {},
     "output_type": "execute_result"
    },
    {
     "data": {
      "image/png": "[encoded data removed]",
      "text/plain": [
       "<Figure size 432x288 with 1 Axes>"
      ]
     },
     "metadata": {
      "needs_background": "light"
     },
     "output_type": "display_data"
    }
   ],
   "source": [
    "y_pred = elasticnetcv.predict(X_test_scaled)\n",
    "mae = mean_absolute_error(y_test,y_pred)\n",
    "score = r2_score(y_test,y_pred)\n",
    "print('mean_absolute_error',mae)\n",
    "print('r2_score',score)\n",
    "plt.scatter(y_test,y_pred)"
   ]
  },
  {
   "cell_type": "code",
   "execution_count": null,
   "metadata": {},
   "outputs": [],
   "source": []
  }
 ],
 "metadata": {
  "kernelspec": {
   "display_name": "Python 3",
   "language": "python",
   "name": "python3"
  },
  "language_info": {
   "codemirror_mode": {
    "name": "ipython",
    "version": 3
   },
   "file_extension": ".py",
   "mimetype": "text/x-python",
   "name": "python",
   "nbconvert_exporter": "python",
   "pygments_lexer": "ipython3",
   "version": "3.8.8"
  }
 },
 "nbformat": 4,
 "nbformat_minor": 2
}
